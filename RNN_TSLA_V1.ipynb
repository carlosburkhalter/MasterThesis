{
 "cells": [
  {
   "cell_type": "markdown",
   "metadata": {},
   "source": [
    "# Predicting TESLA stock price "
   ]
  },
  {
   "cell_type": "markdown",
   "metadata": {},
   "source": [
    "## First we need to download financial data"
   ]
  },
  {
   "cell_type": "markdown",
   "metadata": {},
   "source": [
    "Before running the code: \n",
    "\n",
    "pip install yahoofinancials, pip install yfinance, pip install tensorflow"
   ]
  },
  {
   "cell_type": "code",
   "execution_count": null,
   "metadata": {},
   "outputs": [],
   "source": []
  },
  {
   "cell_type": "code",
   "execution_count": 2,
   "metadata": {},
   "outputs": [],
   "source": [
    "import pandas as pd\n",
    "import yfinance as yf\n",
    "from yahoofinancials import YahooFinancials\n",
    "import numpy as np \n",
    "import matplotlib.pyplot as plt \n",
    "import pandas as pd \n",
    "from sklearn.preprocessing import StandardScaler, MinMaxScaler \n",
    "\n"
   ]
  },
  {
   "cell_type": "markdown",
   "metadata": {},
   "source": [
    "Steps to build stock prediction model \n",
    "    - Data processing\n",
    "    - Building the RNN \n",
    "    - Making prediction and visualizatiuon "
   ]
  },
  {
   "cell_type": "markdown",
   "metadata": {},
   "source": [
    "### Data Visualization"
   ]
  },
  {
   "cell_type": "code",
   "execution_count": 7,
   "metadata": {},
   "outputs": [],
   "source": [
    "#import external pandas_datareader library with alias of web\n",
    "import pandas_datareader as web\n",
    "import datetime\n",
    "\n",
    "# define the time frame of the data\n",
    "\n",
    "start = datetime.datetime(2005, 9, 1)\n",
    "end = datetime.datetime(2019, 12, 31)\n",
    " \n",
    "#DataReader method name is case sensitive\n",
    "df = web.DataReader(\"^GDAXI\",'yahoo', start, end)\n",
    " \n",
    "df.to_csv('DAX30.csv')\n",
    "\n",
    "data = pd.read_csv('DAX30.csv',date_parser = True)\n",
    "data.tail()"
   ]
  },
  {
   "cell_type": "markdown",
   "metadata": {},
   "source": [
    "### Splitting into training and test data"
   ]
  },
  {
   "cell_type": "code",
   "execution_count": 8,
   "metadata": {},
   "outputs": [
    {
     "data": {
      "text/html": [
       "<div>\n",
       "<style scoped>\n",
       "    .dataframe tbody tr th:only-of-type {\n",
       "        vertical-align: middle;\n",
       "    }\n",
       "\n",
       "    .dataframe tbody tr th {\n",
       "        vertical-align: top;\n",
       "    }\n",
       "\n",
       "    .dataframe thead th {\n",
       "        text-align: right;\n",
       "    }\n",
       "</style>\n",
       "<table border=\"1\" class=\"dataframe\">\n",
       "  <thead>\n",
       "    <tr style=\"text-align: right;\">\n",
       "      <th></th>\n",
       "      <th>Date</th>\n",
       "      <th>High</th>\n",
       "      <th>Low</th>\n",
       "      <th>Open</th>\n",
       "      <th>Close</th>\n",
       "      <th>Volume</th>\n",
       "      <th>Adj Close</th>\n",
       "    </tr>\n",
       "  </thead>\n",
       "  <tbody>\n",
       "    <tr>\n",
       "      <th>3627</th>\n",
       "      <td>2019-12-19</td>\n",
       "      <td>13248.980469</td>\n",
       "      <td>13140.219727</td>\n",
       "      <td>13226.700195</td>\n",
       "      <td>13211.959961</td>\n",
       "      <td>84018200.0</td>\n",
       "      <td>13211.959961</td>\n",
       "    </tr>\n",
       "    <tr>\n",
       "      <th>3628</th>\n",
       "      <td>2019-12-20</td>\n",
       "      <td>13324.110352</td>\n",
       "      <td>13201.799805</td>\n",
       "      <td>13210.259766</td>\n",
       "      <td>13318.900391</td>\n",
       "      <td>170723200.0</td>\n",
       "      <td>13318.900391</td>\n",
       "    </tr>\n",
       "    <tr>\n",
       "      <th>3629</th>\n",
       "      <td>2019-12-23</td>\n",
       "      <td>13331.860352</td>\n",
       "      <td>13285.549805</td>\n",
       "      <td>13304.769531</td>\n",
       "      <td>13300.980469</td>\n",
       "      <td>56215400.0</td>\n",
       "      <td>13300.980469</td>\n",
       "    </tr>\n",
       "    <tr>\n",
       "      <th>3630</th>\n",
       "      <td>2019-12-27</td>\n",
       "      <td>13381.440430</td>\n",
       "      <td>13311.519531</td>\n",
       "      <td>13338.320312</td>\n",
       "      <td>13337.110352</td>\n",
       "      <td>43758600.0</td>\n",
       "      <td>13337.110352</td>\n",
       "    </tr>\n",
       "    <tr>\n",
       "      <th>3631</th>\n",
       "      <td>2019-12-30</td>\n",
       "      <td>13316.620117</td>\n",
       "      <td>13244.169922</td>\n",
       "      <td>13301.429688</td>\n",
       "      <td>13249.009766</td>\n",
       "      <td>31427400.0</td>\n",
       "      <td>13249.009766</td>\n",
       "    </tr>\n",
       "  </tbody>\n",
       "</table>\n",
       "</div>"
      ],
      "text/plain": [
       "            Date          High           Low          Open         Close  \\\n",
       "3627  2019-12-19  13248.980469  13140.219727  13226.700195  13211.959961   \n",
       "3628  2019-12-20  13324.110352  13201.799805  13210.259766  13318.900391   \n",
       "3629  2019-12-23  13331.860352  13285.549805  13304.769531  13300.980469   \n",
       "3630  2019-12-27  13381.440430  13311.519531  13338.320312  13337.110352   \n",
       "3631  2019-12-30  13316.620117  13244.169922  13301.429688  13249.009766   \n",
       "\n",
       "           Volume     Adj Close  \n",
       "3627   84018200.0  13211.959961  \n",
       "3628  170723200.0  13318.900391  \n",
       "3629   56215400.0  13300.980469  \n",
       "3630   43758600.0  13337.110352  \n",
       "3631   31427400.0  13249.009766  "
      ]
     },
     "execution_count": 8,
     "metadata": {},
     "output_type": "execute_result"
    }
   ],
   "source": [
    "data = pd.read_csv('DAX30.csv',date_parser = True)\n",
    "data.tail()\n"
   ]
  },
  {
   "cell_type": "code",
   "execution_count": 9,
   "metadata": {},
   "outputs": [
    {
     "data": {
      "text/html": [
       "<div>\n",
       "<style scoped>\n",
       "    .dataframe tbody tr th:only-of-type {\n",
       "        vertical-align: middle;\n",
       "    }\n",
       "\n",
       "    .dataframe tbody tr th {\n",
       "        vertical-align: top;\n",
       "    }\n",
       "\n",
       "    .dataframe thead th {\n",
       "        text-align: right;\n",
       "    }\n",
       "</style>\n",
       "<table border=\"1\" class=\"dataframe\">\n",
       "  <thead>\n",
       "    <tr style=\"text-align: right;\">\n",
       "      <th></th>\n",
       "      <th>Date</th>\n",
       "      <th>High</th>\n",
       "      <th>Low</th>\n",
       "      <th>Open</th>\n",
       "      <th>Close</th>\n",
       "      <th>Volume</th>\n",
       "      <th>Adj Close</th>\n",
       "    </tr>\n",
       "  </thead>\n",
       "  <tbody>\n",
       "    <tr>\n",
       "      <th>0</th>\n",
       "      <td>2005-09-01</td>\n",
       "      <td>4874.890137</td>\n",
       "      <td>4816.669922</td>\n",
       "      <td>4846.660156</td>\n",
       "      <td>4842.939941</td>\n",
       "      <td>102111400.0</td>\n",
       "      <td>4842.939941</td>\n",
       "    </tr>\n",
       "    <tr>\n",
       "      <th>1</th>\n",
       "      <td>2005-09-02</td>\n",
       "      <td>4861.930176</td>\n",
       "      <td>4819.100098</td>\n",
       "      <td>4841.379883</td>\n",
       "      <td>4837.810059</td>\n",
       "      <td>92755300.0</td>\n",
       "      <td>4837.810059</td>\n",
       "    </tr>\n",
       "    <tr>\n",
       "      <th>2</th>\n",
       "      <td>2005-09-05</td>\n",
       "      <td>4909.890137</td>\n",
       "      <td>4850.529785</td>\n",
       "      <td>4853.600098</td>\n",
       "      <td>4909.890137</td>\n",
       "      <td>58985900.0</td>\n",
       "      <td>4909.890137</td>\n",
       "    </tr>\n",
       "    <tr>\n",
       "      <th>3</th>\n",
       "      <td>2005-09-06</td>\n",
       "      <td>4969.419922</td>\n",
       "      <td>4901.899902</td>\n",
       "      <td>4903.390137</td>\n",
       "      <td>4968.279785</td>\n",
       "      <td>93517800.0</td>\n",
       "      <td>4968.279785</td>\n",
       "    </tr>\n",
       "    <tr>\n",
       "      <th>4</th>\n",
       "      <td>2005-09-07</td>\n",
       "      <td>5004.229980</td>\n",
       "      <td>4967.680176</td>\n",
       "      <td>4977.919922</td>\n",
       "      <td>4988.140137</td>\n",
       "      <td>102181700.0</td>\n",
       "      <td>4988.140137</td>\n",
       "    </tr>\n",
       "    <tr>\n",
       "      <th>...</th>\n",
       "      <td>...</td>\n",
       "      <td>...</td>\n",
       "      <td>...</td>\n",
       "      <td>...</td>\n",
       "      <td>...</td>\n",
       "      <td>...</td>\n",
       "      <td>...</td>\n",
       "    </tr>\n",
       "    <tr>\n",
       "      <th>3125</th>\n",
       "      <td>2017-12-21</td>\n",
       "      <td>13137.709961</td>\n",
       "      <td>13013.629883</td>\n",
       "      <td>13065.790039</td>\n",
       "      <td>13109.740234</td>\n",
       "      <td>70360200.0</td>\n",
       "      <td>13109.740234</td>\n",
       "    </tr>\n",
       "    <tr>\n",
       "      <th>3126</th>\n",
       "      <td>2017-12-22</td>\n",
       "      <td>13108.559570</td>\n",
       "      <td>13059.870117</td>\n",
       "      <td>13076.759766</td>\n",
       "      <td>13072.790039</td>\n",
       "      <td>52876700.0</td>\n",
       "      <td>13072.790039</td>\n",
       "    </tr>\n",
       "    <tr>\n",
       "      <th>3127</th>\n",
       "      <td>2017-12-27</td>\n",
       "      <td>13128.740234</td>\n",
       "      <td>13020.429688</td>\n",
       "      <td>13070.190430</td>\n",
       "      <td>13070.019531</td>\n",
       "      <td>44677000.0</td>\n",
       "      <td>13070.019531</td>\n",
       "    </tr>\n",
       "    <tr>\n",
       "      <th>3128</th>\n",
       "      <td>2017-12-28</td>\n",
       "      <td>13069.400391</td>\n",
       "      <td>12965.280273</td>\n",
       "      <td>13065.459961</td>\n",
       "      <td>12979.940430</td>\n",
       "      <td>43152100.0</td>\n",
       "      <td>12979.940430</td>\n",
       "    </tr>\n",
       "    <tr>\n",
       "      <th>3129</th>\n",
       "      <td>2017-12-29</td>\n",
       "      <td>12980.740234</td>\n",
       "      <td>12911.730469</td>\n",
       "      <td>12980.089844</td>\n",
       "      <td>12917.639648</td>\n",
       "      <td>42169200.0</td>\n",
       "      <td>12917.639648</td>\n",
       "    </tr>\n",
       "  </tbody>\n",
       "</table>\n",
       "<p>3130 rows × 7 columns</p>\n",
       "</div>"
      ],
      "text/plain": [
       "            Date          High           Low          Open         Close  \\\n",
       "0     2005-09-01   4874.890137   4816.669922   4846.660156   4842.939941   \n",
       "1     2005-09-02   4861.930176   4819.100098   4841.379883   4837.810059   \n",
       "2     2005-09-05   4909.890137   4850.529785   4853.600098   4909.890137   \n",
       "3     2005-09-06   4969.419922   4901.899902   4903.390137   4968.279785   \n",
       "4     2005-09-07   5004.229980   4967.680176   4977.919922   4988.140137   \n",
       "...          ...           ...           ...           ...           ...   \n",
       "3125  2017-12-21  13137.709961  13013.629883  13065.790039  13109.740234   \n",
       "3126  2017-12-22  13108.559570  13059.870117  13076.759766  13072.790039   \n",
       "3127  2017-12-27  13128.740234  13020.429688  13070.190430  13070.019531   \n",
       "3128  2017-12-28  13069.400391  12965.280273  13065.459961  12979.940430   \n",
       "3129  2017-12-29  12980.740234  12911.730469  12980.089844  12917.639648   \n",
       "\n",
       "           Volume     Adj Close  \n",
       "0     102111400.0   4842.939941  \n",
       "1      92755300.0   4837.810059  \n",
       "2      58985900.0   4909.890137  \n",
       "3      93517800.0   4968.279785  \n",
       "4     102181700.0   4988.140137  \n",
       "...           ...           ...  \n",
       "3125   70360200.0  13109.740234  \n",
       "3126   52876700.0  13072.790039  \n",
       "3127   44677000.0  13070.019531  \n",
       "3128   43152100.0  12979.940430  \n",
       "3129   42169200.0  12917.639648  \n",
       "\n",
       "[3130 rows x 7 columns]"
      ]
     },
     "execution_count": 9,
     "metadata": {},
     "output_type": "execute_result"
    }
   ],
   "source": [
    "data_training = data[data['Date']<'2018-01-01'].copy()\n",
    "data_training"
   ]
  },
  {
   "cell_type": "code",
   "execution_count": 10,
   "metadata": {},
   "outputs": [
    {
     "data": {
      "text/html": [
       "<div>\n",
       "<style scoped>\n",
       "    .dataframe tbody tr th:only-of-type {\n",
       "        vertical-align: middle;\n",
       "    }\n",
       "\n",
       "    .dataframe tbody tr th {\n",
       "        vertical-align: top;\n",
       "    }\n",
       "\n",
       "    .dataframe thead th {\n",
       "        text-align: right;\n",
       "    }\n",
       "</style>\n",
       "<table border=\"1\" class=\"dataframe\">\n",
       "  <thead>\n",
       "    <tr style=\"text-align: right;\">\n",
       "      <th></th>\n",
       "      <th>Date</th>\n",
       "      <th>High</th>\n",
       "      <th>Low</th>\n",
       "      <th>Open</th>\n",
       "      <th>Close</th>\n",
       "      <th>Volume</th>\n",
       "      <th>Adj Close</th>\n",
       "    </tr>\n",
       "  </thead>\n",
       "  <tbody>\n",
       "    <tr>\n",
       "      <th>3130</th>\n",
       "      <td>2018-01-02</td>\n",
       "      <td>12924.160156</td>\n",
       "      <td>12745.150391</td>\n",
       "      <td>12897.690430</td>\n",
       "      <td>12871.389648</td>\n",
       "      <td>86049300.0</td>\n",
       "      <td>12871.389648</td>\n",
       "    </tr>\n",
       "    <tr>\n",
       "      <th>3131</th>\n",
       "      <td>2018-01-03</td>\n",
       "      <td>13023.589844</td>\n",
       "      <td>12893.049805</td>\n",
       "      <td>12916.179688</td>\n",
       "      <td>12978.209961</td>\n",
       "      <td>84809300.0</td>\n",
       "      <td>12978.209961</td>\n",
       "    </tr>\n",
       "    <tr>\n",
       "      <th>3132</th>\n",
       "      <td>2018-01-04</td>\n",
       "      <td>13208.349609</td>\n",
       "      <td>13062.669922</td>\n",
       "      <td>13065.980469</td>\n",
       "      <td>13167.889648</td>\n",
       "      <td>101199400.0</td>\n",
       "      <td>13167.889648</td>\n",
       "    </tr>\n",
       "    <tr>\n",
       "      <th>3133</th>\n",
       "      <td>2018-01-05</td>\n",
       "      <td>13332.799805</td>\n",
       "      <td>13219.110352</td>\n",
       "      <td>13219.110352</td>\n",
       "      <td>13319.639648</td>\n",
       "      <td>112555000.0</td>\n",
       "      <td>13319.639648</td>\n",
       "    </tr>\n",
       "    <tr>\n",
       "      <th>3134</th>\n",
       "      <td>2018-01-08</td>\n",
       "      <td>13407.820312</td>\n",
       "      <td>13334.160156</td>\n",
       "      <td>13399.620117</td>\n",
       "      <td>13367.780273</td>\n",
       "      <td>95005300.0</td>\n",
       "      <td>13367.780273</td>\n",
       "    </tr>\n",
       "    <tr>\n",
       "      <th>...</th>\n",
       "      <td>...</td>\n",
       "      <td>...</td>\n",
       "      <td>...</td>\n",
       "      <td>...</td>\n",
       "      <td>...</td>\n",
       "      <td>...</td>\n",
       "      <td>...</td>\n",
       "    </tr>\n",
       "    <tr>\n",
       "      <th>3627</th>\n",
       "      <td>2019-12-19</td>\n",
       "      <td>13248.980469</td>\n",
       "      <td>13140.219727</td>\n",
       "      <td>13226.700195</td>\n",
       "      <td>13211.959961</td>\n",
       "      <td>84018200.0</td>\n",
       "      <td>13211.959961</td>\n",
       "    </tr>\n",
       "    <tr>\n",
       "      <th>3628</th>\n",
       "      <td>2019-12-20</td>\n",
       "      <td>13324.110352</td>\n",
       "      <td>13201.799805</td>\n",
       "      <td>13210.259766</td>\n",
       "      <td>13318.900391</td>\n",
       "      <td>170723200.0</td>\n",
       "      <td>13318.900391</td>\n",
       "    </tr>\n",
       "    <tr>\n",
       "      <th>3629</th>\n",
       "      <td>2019-12-23</td>\n",
       "      <td>13331.860352</td>\n",
       "      <td>13285.549805</td>\n",
       "      <td>13304.769531</td>\n",
       "      <td>13300.980469</td>\n",
       "      <td>56215400.0</td>\n",
       "      <td>13300.980469</td>\n",
       "    </tr>\n",
       "    <tr>\n",
       "      <th>3630</th>\n",
       "      <td>2019-12-27</td>\n",
       "      <td>13381.440430</td>\n",
       "      <td>13311.519531</td>\n",
       "      <td>13338.320312</td>\n",
       "      <td>13337.110352</td>\n",
       "      <td>43758600.0</td>\n",
       "      <td>13337.110352</td>\n",
       "    </tr>\n",
       "    <tr>\n",
       "      <th>3631</th>\n",
       "      <td>2019-12-30</td>\n",
       "      <td>13316.620117</td>\n",
       "      <td>13244.169922</td>\n",
       "      <td>13301.429688</td>\n",
       "      <td>13249.009766</td>\n",
       "      <td>31427400.0</td>\n",
       "      <td>13249.009766</td>\n",
       "    </tr>\n",
       "  </tbody>\n",
       "</table>\n",
       "<p>502 rows × 7 columns</p>\n",
       "</div>"
      ],
      "text/plain": [
       "            Date          High           Low          Open         Close  \\\n",
       "3130  2018-01-02  12924.160156  12745.150391  12897.690430  12871.389648   \n",
       "3131  2018-01-03  13023.589844  12893.049805  12916.179688  12978.209961   \n",
       "3132  2018-01-04  13208.349609  13062.669922  13065.980469  13167.889648   \n",
       "3133  2018-01-05  13332.799805  13219.110352  13219.110352  13319.639648   \n",
       "3134  2018-01-08  13407.820312  13334.160156  13399.620117  13367.780273   \n",
       "...          ...           ...           ...           ...           ...   \n",
       "3627  2019-12-19  13248.980469  13140.219727  13226.700195  13211.959961   \n",
       "3628  2019-12-20  13324.110352  13201.799805  13210.259766  13318.900391   \n",
       "3629  2019-12-23  13331.860352  13285.549805  13304.769531  13300.980469   \n",
       "3630  2019-12-27  13381.440430  13311.519531  13338.320312  13337.110352   \n",
       "3631  2019-12-30  13316.620117  13244.169922  13301.429688  13249.009766   \n",
       "\n",
       "           Volume     Adj Close  \n",
       "3130   86049300.0  12871.389648  \n",
       "3131   84809300.0  12978.209961  \n",
       "3132  101199400.0  13167.889648  \n",
       "3133  112555000.0  13319.639648  \n",
       "3134   95005300.0  13367.780273  \n",
       "...           ...           ...  \n",
       "3627   84018200.0  13211.959961  \n",
       "3628  170723200.0  13318.900391  \n",
       "3629   56215400.0  13300.980469  \n",
       "3630   43758600.0  13337.110352  \n",
       "3631   31427400.0  13249.009766  \n",
       "\n",
       "[502 rows x 7 columns]"
      ]
     },
     "execution_count": 10,
     "metadata": {},
     "output_type": "execute_result"
    }
   ],
   "source": [
    "data_test = data[data['Date']>'2018-01-01'].copy()\n",
    "data_test"
   ]
  },
  {
   "cell_type": "code",
   "execution_count": 11,
   "metadata": {},
   "outputs": [],
   "source": [
    "# Date and Adj Close are not interesting so I will drop it\n",
    "\n",
    "training_data = data_training.drop(['Date','Adj Close'], axis = 1)"
   ]
  },
  {
   "cell_type": "code",
   "execution_count": 12,
   "metadata": {},
   "outputs": [
    {
     "data": {
      "text/html": [
       "<div>\n",
       "<style scoped>\n",
       "    .dataframe tbody tr th:only-of-type {\n",
       "        vertical-align: middle;\n",
       "    }\n",
       "\n",
       "    .dataframe tbody tr th {\n",
       "        vertical-align: top;\n",
       "    }\n",
       "\n",
       "    .dataframe thead th {\n",
       "        text-align: right;\n",
       "    }\n",
       "</style>\n",
       "<table border=\"1\" class=\"dataframe\">\n",
       "  <thead>\n",
       "    <tr style=\"text-align: right;\">\n",
       "      <th></th>\n",
       "      <th>High</th>\n",
       "      <th>Low</th>\n",
       "      <th>Open</th>\n",
       "      <th>Close</th>\n",
       "      <th>Volume</th>\n",
       "    </tr>\n",
       "  </thead>\n",
       "  <tbody>\n",
       "    <tr>\n",
       "      <th>0</th>\n",
       "      <td>4874.890137</td>\n",
       "      <td>4816.669922</td>\n",
       "      <td>4846.660156</td>\n",
       "      <td>4842.939941</td>\n",
       "      <td>102111400.0</td>\n",
       "    </tr>\n",
       "    <tr>\n",
       "      <th>1</th>\n",
       "      <td>4861.930176</td>\n",
       "      <td>4819.100098</td>\n",
       "      <td>4841.379883</td>\n",
       "      <td>4837.810059</td>\n",
       "      <td>92755300.0</td>\n",
       "    </tr>\n",
       "    <tr>\n",
       "      <th>2</th>\n",
       "      <td>4909.890137</td>\n",
       "      <td>4850.529785</td>\n",
       "      <td>4853.600098</td>\n",
       "      <td>4909.890137</td>\n",
       "      <td>58985900.0</td>\n",
       "    </tr>\n",
       "    <tr>\n",
       "      <th>3</th>\n",
       "      <td>4969.419922</td>\n",
       "      <td>4901.899902</td>\n",
       "      <td>4903.390137</td>\n",
       "      <td>4968.279785</td>\n",
       "      <td>93517800.0</td>\n",
       "    </tr>\n",
       "    <tr>\n",
       "      <th>4</th>\n",
       "      <td>5004.229980</td>\n",
       "      <td>4967.680176</td>\n",
       "      <td>4977.919922</td>\n",
       "      <td>4988.140137</td>\n",
       "      <td>102181700.0</td>\n",
       "    </tr>\n",
       "  </tbody>\n",
       "</table>\n",
       "</div>"
      ],
      "text/plain": [
       "          High          Low         Open        Close       Volume\n",
       "0  4874.890137  4816.669922  4846.660156  4842.939941  102111400.0\n",
       "1  4861.930176  4819.100098  4841.379883  4837.810059   92755300.0\n",
       "2  4909.890137  4850.529785  4853.600098  4909.890137   58985900.0\n",
       "3  4969.419922  4901.899902  4903.390137  4968.279785   93517800.0\n",
       "4  5004.229980  4967.680176  4977.919922  4988.140137  102181700.0"
      ]
     },
     "execution_count": 12,
     "metadata": {},
     "output_type": "execute_result"
    }
   ],
   "source": [
    "training_data.head()"
   ]
  },
  {
   "cell_type": "code",
   "execution_count": 13,
   "metadata": {},
   "outputs": [
    {
     "data": {
      "text/plain": [
       "array([[0.11900821, 0.12461267, 0.11884979, 0.11990176, 0.18260868],\n",
       "       [0.11768835, 0.12485932, 0.11831322, 0.11937896, 0.16309458],\n",
       "       [0.12257264, 0.12804926, 0.119555  , 0.12672474, 0.09266141],\n",
       "       ...,\n",
       "       [0.95958757, 0.95724751, 0.95449709, 0.95833448, 0.0628172 ],\n",
       "       [0.95354435, 0.95165016, 0.9540164 , 0.9491544 , 0.0596367 ],\n",
       "       [0.94451512, 0.94621516, 0.94534138, 0.94280524, 0.05758665]])"
      ]
     },
     "execution_count": 13,
     "metadata": {},
     "output_type": "execute_result"
    }
   ],
   "source": [
    "scaler = MinMaxScaler() #scaling data between 0 and 1 \n",
    "training_data = scaler.fit_transform(training_data)\n",
    "training_data"
   ]
  },
  {
   "cell_type": "code",
   "execution_count": 14,
   "metadata": {},
   "outputs": [],
   "source": [
    "X_train = []\n",
    "y_train = []\n"
   ]
  },
  {
   "cell_type": "code",
   "execution_count": 15,
   "metadata": {},
   "outputs": [],
   "source": [
    "for i in range(60, training_data.shape[0]):# windows of 60 days \n",
    "    X_train.append(training_data[i-60:i])\n",
    "    y_train.append(training_data[i,0])"
   ]
  },
  {
   "cell_type": "code",
   "execution_count": 16,
   "metadata": {},
   "outputs": [],
   "source": [
    "X_train= np.array(X_train)"
   ]
  },
  {
   "cell_type": "code",
   "execution_count": 17,
   "metadata": {},
   "outputs": [
    {
     "data": {
      "text/plain": [
       "(3070, 60, 5)"
      ]
     },
     "execution_count": 17,
     "metadata": {},
     "output_type": "execute_result"
    }
   ],
   "source": [
    "X_train.shape"
   ]
  },
  {
   "cell_type": "markdown",
   "metadata": {},
   "source": [
    "## Building the LSTM"
   ]
  },
  {
   "cell_type": "code",
   "execution_count": 18,
   "metadata": {},
   "outputs": [],
   "source": [
    "from tensorflow.keras import Sequential \n",
    "from tensorflow.keras.layers import Dense, LSTM, Dropout "
   ]
  },
  {
   "cell_type": "code",
   "execution_count": 50,
   "metadata": {},
   "outputs": [],
   "source": [
    "regressor = Sequential()\n",
    "\n",
    "regressor.add(LSTM(units = 100, activation = 'relu', return_sequences = True, input_shape = (X_train.shape[1],5)))\n",
    "regressor.add(Dropout(0.2))\n",
    "\n",
    "regressor.add(LSTM(units = 120, activation = 'relu', return_sequences = True))\n",
    "regressor.add(Dropout(0.3))\n",
    "\n",
    "regressor.add(LSTM(units = 200, activation = 'relu', return_sequences = True))\n",
    "regressor.add(Dropout(0.4))\n",
    "\n",
    "regressor.add(LSTM(units = 300, activation = 'relu', return_sequences = True))\n",
    "regressor.add(Dropout(0.4))\n",
    "\n",
    "regressor.add(LSTM(units = 400, activation = 'relu', return_sequences = True))\n",
    "regressor.add(Dropout(0.4))\n",
    "\n",
    "regressor.add(LSTM(units = 500, activation = 'relu', return_sequences = True))\n",
    "regressor.add(Dropout(0.4))\n",
    "\n",
    "regressor.add(LSTM(units = 300, activation = 'relu', return_sequences = True))\n",
    "regressor.add(Dropout(0.4))\n",
    "\n",
    "\n",
    "regressor.add(LSTM(units = 200, activation = 'relu', return_sequences = True))\n",
    "regressor.add(Dropout(0.4))\n",
    "\n",
    "regressor.add(LSTM(units = 100, activation = 'relu', return_sequences = True))\n",
    "regressor.add(Dropout(0.4))\n",
    "\n",
    "regressor.add(LSTM(units = 50, activation = 'relu'))\n",
    "regressor.add(Dropout(0.5))\n",
    "\n",
    "regressor.add(Dense(units=1))"
   ]
  },
  {
   "cell_type": "code",
   "execution_count": 51,
   "metadata": {},
   "outputs": [
    {
     "name": "stdout",
     "output_type": "stream",
     "text": [
      "Model: \"sequential_2\"\n",
      "_________________________________________________________________\n",
      "Layer (type)                 Output Shape              Param #   \n",
      "=================================================================\n",
      "lstm_19 (LSTM)               (None, 60, 100)           42400     \n",
      "_________________________________________________________________\n",
      "dropout_19 (Dropout)         (None, 60, 100)           0         \n",
      "_________________________________________________________________\n",
      "lstm_20 (LSTM)               (None, 60, 120)           106080    \n",
      "_________________________________________________________________\n",
      "dropout_20 (Dropout)         (None, 60, 120)           0         \n",
      "_________________________________________________________________\n",
      "lstm_21 (LSTM)               (None, 60, 200)           256800    \n",
      "_________________________________________________________________\n",
      "dropout_21 (Dropout)         (None, 60, 200)           0         \n",
      "_________________________________________________________________\n",
      "lstm_22 (LSTM)               (None, 60, 300)           601200    \n",
      "_________________________________________________________________\n",
      "dropout_22 (Dropout)         (None, 60, 300)           0         \n",
      "_________________________________________________________________\n",
      "lstm_23 (LSTM)               (None, 60, 400)           1121600   \n",
      "_________________________________________________________________\n",
      "dropout_23 (Dropout)         (None, 60, 400)           0         \n",
      "_________________________________________________________________\n",
      "lstm_24 (LSTM)               (None, 60, 500)           1802000   \n",
      "_________________________________________________________________\n",
      "dropout_24 (Dropout)         (None, 60, 500)           0         \n",
      "_________________________________________________________________\n",
      "lstm_25 (LSTM)               (None, 60, 300)           961200    \n",
      "_________________________________________________________________\n",
      "dropout_25 (Dropout)         (None, 60, 300)           0         \n",
      "_________________________________________________________________\n",
      "lstm_26 (LSTM)               (None, 60, 200)           400800    \n",
      "_________________________________________________________________\n",
      "dropout_26 (Dropout)         (None, 60, 200)           0         \n",
      "_________________________________________________________________\n",
      "lstm_27 (LSTM)               (None, 60, 100)           120400    \n",
      "_________________________________________________________________\n",
      "dropout_27 (Dropout)         (None, 60, 100)           0         \n",
      "_________________________________________________________________\n",
      "lstm_28 (LSTM)               (None, 50)                30200     \n",
      "_________________________________________________________________\n",
      "dropout_28 (Dropout)         (None, 50)                0         \n",
      "_________________________________________________________________\n",
      "dense_2 (Dense)              (None, 1)                 51        \n",
      "=================================================================\n",
      "Total params: 5,442,731\n",
      "Trainable params: 5,442,731\n",
      "Non-trainable params: 0\n",
      "_________________________________________________________________\n"
     ]
    }
   ],
   "source": [
    "regressor.summary()"
   ]
  },
  {
   "cell_type": "code",
   "execution_count": 52,
   "metadata": {},
   "outputs": [],
   "source": [
    "regressor.compile(optimizer = 'adam', loss = 'mean_squared_error')\n",
    "X_train = np.asarray(X_train)\n",
    "y_train = np.asarray(y_train)"
   ]
  },
  {
   "cell_type": "code",
   "execution_count": 54,
   "metadata": {},
   "outputs": [
    {
     "name": "stdout",
     "output_type": "stream",
     "text": [
      "Epoch 1/10\n",
      "96/96 [==============================] - 107s 1s/step - loss: 0.0160\n",
      "Epoch 2/10\n",
      "96/96 [==============================] - 107s 1s/step - loss: 0.0121\n",
      "Epoch 3/10\n",
      "96/96 [==============================] - 108s 1s/step - loss: 0.0106\n",
      "Epoch 4/10\n",
      "96/96 [==============================] - 110s 1s/step - loss: 0.0107\n",
      "Epoch 5/10\n",
      "96/96 [==============================] - 109s 1s/step - loss: 0.0094\n",
      "Epoch 6/10\n",
      "96/96 [==============================] - 108s 1s/step - loss: 0.0082\n",
      "Epoch 7/10\n",
      "96/96 [==============================] - 108s 1s/step - loss: 0.0083\n",
      "Epoch 8/10\n",
      "96/96 [==============================] - 107s 1s/step - loss: 0.0072\n",
      "Epoch 9/10\n",
      "96/96 [==============================] - 108s 1s/step - loss: 0.0074\n",
      "Epoch 10/10\n",
      "96/96 [==============================] - 109s 1s/step - loss: 0.0065\n"
     ]
    },
    {
     "data": {
      "text/plain": [
       "<tensorflow.python.keras.callbacks.History at 0x17d0bee3a08>"
      ]
     },
     "execution_count": 54,
     "metadata": {},
     "output_type": "execute_result"
    }
   ],
   "source": [
    "regressor.fit(X_train, y_train, epochs=10, batch_size=32)"
   ]
  },
  {
   "cell_type": "markdown",
   "metadata": {},
   "source": [
    "Now we need to test and compare "
   ]
  },
  {
   "cell_type": "markdown",
   "metadata": {},
   "source": [
    "### Preparing test data"
   ]
  },
  {
   "cell_type": "code",
   "execution_count": 55,
   "metadata": {},
   "outputs": [],
   "source": [
    "past_60_days = data_training.tail(60)"
   ]
  },
  {
   "cell_type": "code",
   "execution_count": 56,
   "metadata": {},
   "outputs": [
    {
     "data": {
      "text/html": [
       "<div>\n",
       "<style scoped>\n",
       "    .dataframe tbody tr th:only-of-type {\n",
       "        vertical-align: middle;\n",
       "    }\n",
       "\n",
       "    .dataframe tbody tr th {\n",
       "        vertical-align: top;\n",
       "    }\n",
       "\n",
       "    .dataframe thead th {\n",
       "        text-align: right;\n",
       "    }\n",
       "</style>\n",
       "<table border=\"1\" class=\"dataframe\">\n",
       "  <thead>\n",
       "    <tr style=\"text-align: right;\">\n",
       "      <th></th>\n",
       "      <th>Date</th>\n",
       "      <th>High</th>\n",
       "      <th>Low</th>\n",
       "      <th>Open</th>\n",
       "      <th>Close</th>\n",
       "      <th>Volume</th>\n",
       "      <th>Adj Close</th>\n",
       "    </tr>\n",
       "  </thead>\n",
       "  <tbody>\n",
       "    <tr>\n",
       "      <th>0</th>\n",
       "      <td>2017-10-04</td>\n",
       "      <td>12976.240234</td>\n",
       "      <td>12893.750000</td>\n",
       "      <td>12955.889648</td>\n",
       "      <td>12970.519531</td>\n",
       "      <td>115228700.0</td>\n",
       "      <td>12970.519531</td>\n",
       "    </tr>\n",
       "    <tr>\n",
       "      <th>1</th>\n",
       "      <td>2017-10-05</td>\n",
       "      <td>12969.400391</td>\n",
       "      <td>12933.559570</td>\n",
       "      <td>12950.179688</td>\n",
       "      <td>12968.049805</td>\n",
       "      <td>78532500.0</td>\n",
       "      <td>12968.049805</td>\n",
       "    </tr>\n",
       "    <tr>\n",
       "      <th>2</th>\n",
       "      <td>2017-10-06</td>\n",
       "      <td>12993.530273</td>\n",
       "      <td>12941.150391</td>\n",
       "      <td>12979.339844</td>\n",
       "      <td>12955.940430</td>\n",
       "      <td>73029000.0</td>\n",
       "      <td>12955.940430</td>\n",
       "    </tr>\n",
       "    <tr>\n",
       "      <th>3</th>\n",
       "      <td>2017-10-09</td>\n",
       "      <td>12996.639648</td>\n",
       "      <td>12943.549805</td>\n",
       "      <td>12975.860352</td>\n",
       "      <td>12976.400391</td>\n",
       "      <td>60873300.0</td>\n",
       "      <td>12976.400391</td>\n",
       "    </tr>\n",
       "    <tr>\n",
       "      <th>4</th>\n",
       "      <td>2017-10-10</td>\n",
       "      <td>12980.450195</td>\n",
       "      <td>12909.280273</td>\n",
       "      <td>12959.719727</td>\n",
       "      <td>12949.250000</td>\n",
       "      <td>65253500.0</td>\n",
       "      <td>12949.250000</td>\n",
       "    </tr>\n",
       "    <tr>\n",
       "      <th>...</th>\n",
       "      <td>...</td>\n",
       "      <td>...</td>\n",
       "      <td>...</td>\n",
       "      <td>...</td>\n",
       "      <td>...</td>\n",
       "      <td>...</td>\n",
       "      <td>...</td>\n",
       "    </tr>\n",
       "    <tr>\n",
       "      <th>557</th>\n",
       "      <td>2019-12-19</td>\n",
       "      <td>13248.980469</td>\n",
       "      <td>13140.219727</td>\n",
       "      <td>13226.700195</td>\n",
       "      <td>13211.959961</td>\n",
       "      <td>84018200.0</td>\n",
       "      <td>13211.959961</td>\n",
       "    </tr>\n",
       "    <tr>\n",
       "      <th>558</th>\n",
       "      <td>2019-12-20</td>\n",
       "      <td>13324.110352</td>\n",
       "      <td>13201.799805</td>\n",
       "      <td>13210.259766</td>\n",
       "      <td>13318.900391</td>\n",
       "      <td>170723200.0</td>\n",
       "      <td>13318.900391</td>\n",
       "    </tr>\n",
       "    <tr>\n",
       "      <th>559</th>\n",
       "      <td>2019-12-23</td>\n",
       "      <td>13331.860352</td>\n",
       "      <td>13285.549805</td>\n",
       "      <td>13304.769531</td>\n",
       "      <td>13300.980469</td>\n",
       "      <td>56215400.0</td>\n",
       "      <td>13300.980469</td>\n",
       "    </tr>\n",
       "    <tr>\n",
       "      <th>560</th>\n",
       "      <td>2019-12-27</td>\n",
       "      <td>13381.440430</td>\n",
       "      <td>13311.519531</td>\n",
       "      <td>13338.320312</td>\n",
       "      <td>13337.110352</td>\n",
       "      <td>43758600.0</td>\n",
       "      <td>13337.110352</td>\n",
       "    </tr>\n",
       "    <tr>\n",
       "      <th>561</th>\n",
       "      <td>2019-12-30</td>\n",
       "      <td>13316.620117</td>\n",
       "      <td>13244.169922</td>\n",
       "      <td>13301.429688</td>\n",
       "      <td>13249.009766</td>\n",
       "      <td>31427400.0</td>\n",
       "      <td>13249.009766</td>\n",
       "    </tr>\n",
       "  </tbody>\n",
       "</table>\n",
       "<p>562 rows × 7 columns</p>\n",
       "</div>"
      ],
      "text/plain": [
       "           Date          High           Low          Open         Close  \\\n",
       "0    2017-10-04  12976.240234  12893.750000  12955.889648  12970.519531   \n",
       "1    2017-10-05  12969.400391  12933.559570  12950.179688  12968.049805   \n",
       "2    2017-10-06  12993.530273  12941.150391  12979.339844  12955.940430   \n",
       "3    2017-10-09  12996.639648  12943.549805  12975.860352  12976.400391   \n",
       "4    2017-10-10  12980.450195  12909.280273  12959.719727  12949.250000   \n",
       "..          ...           ...           ...           ...           ...   \n",
       "557  2019-12-19  13248.980469  13140.219727  13226.700195  13211.959961   \n",
       "558  2019-12-20  13324.110352  13201.799805  13210.259766  13318.900391   \n",
       "559  2019-12-23  13331.860352  13285.549805  13304.769531  13300.980469   \n",
       "560  2019-12-27  13381.440430  13311.519531  13338.320312  13337.110352   \n",
       "561  2019-12-30  13316.620117  13244.169922  13301.429688  13249.009766   \n",
       "\n",
       "          Volume     Adj Close  \n",
       "0    115228700.0  12970.519531  \n",
       "1     78532500.0  12968.049805  \n",
       "2     73029000.0  12955.940430  \n",
       "3     60873300.0  12976.400391  \n",
       "4     65253500.0  12949.250000  \n",
       "..           ...           ...  \n",
       "557   84018200.0  13211.959961  \n",
       "558  170723200.0  13318.900391  \n",
       "559   56215400.0  13300.980469  \n",
       "560   43758600.0  13337.110352  \n",
       "561   31427400.0  13249.009766  \n",
       "\n",
       "[562 rows x 7 columns]"
      ]
     },
     "execution_count": 56,
     "metadata": {},
     "output_type": "execute_result"
    }
   ],
   "source": [
    "df = past_60_days.append(data_test, ignore_index = True)\n",
    "df"
   ]
  },
  {
   "cell_type": "code",
   "execution_count": 57,
   "metadata": {},
   "outputs": [
    {
     "data": {
      "text/html": [
       "<div>\n",
       "<style scoped>\n",
       "    .dataframe tbody tr th:only-of-type {\n",
       "        vertical-align: middle;\n",
       "    }\n",
       "\n",
       "    .dataframe tbody tr th {\n",
       "        vertical-align: top;\n",
       "    }\n",
       "\n",
       "    .dataframe thead th {\n",
       "        text-align: right;\n",
       "    }\n",
       "</style>\n",
       "<table border=\"1\" class=\"dataframe\">\n",
       "  <thead>\n",
       "    <tr style=\"text-align: right;\">\n",
       "      <th></th>\n",
       "      <th>High</th>\n",
       "      <th>Low</th>\n",
       "      <th>Open</th>\n",
       "      <th>Close</th>\n",
       "      <th>Volume</th>\n",
       "    </tr>\n",
       "  </thead>\n",
       "  <tbody>\n",
       "    <tr>\n",
       "      <th>0</th>\n",
       "      <td>12976.240234</td>\n",
       "      <td>12893.750000</td>\n",
       "      <td>12955.889648</td>\n",
       "      <td>12970.519531</td>\n",
       "      <td>115228700.0</td>\n",
       "    </tr>\n",
       "    <tr>\n",
       "      <th>1</th>\n",
       "      <td>12969.400391</td>\n",
       "      <td>12933.559570</td>\n",
       "      <td>12950.179688</td>\n",
       "      <td>12968.049805</td>\n",
       "      <td>78532500.0</td>\n",
       "    </tr>\n",
       "    <tr>\n",
       "      <th>2</th>\n",
       "      <td>12993.530273</td>\n",
       "      <td>12941.150391</td>\n",
       "      <td>12979.339844</td>\n",
       "      <td>12955.940430</td>\n",
       "      <td>73029000.0</td>\n",
       "    </tr>\n",
       "    <tr>\n",
       "      <th>3</th>\n",
       "      <td>12996.639648</td>\n",
       "      <td>12943.549805</td>\n",
       "      <td>12975.860352</td>\n",
       "      <td>12976.400391</td>\n",
       "      <td>60873300.0</td>\n",
       "    </tr>\n",
       "    <tr>\n",
       "      <th>4</th>\n",
       "      <td>12980.450195</td>\n",
       "      <td>12909.280273</td>\n",
       "      <td>12959.719727</td>\n",
       "      <td>12949.250000</td>\n",
       "      <td>65253500.0</td>\n",
       "    </tr>\n",
       "  </tbody>\n",
       "</table>\n",
       "</div>"
      ],
      "text/plain": [
       "           High           Low          Open         Close       Volume\n",
       "0  12976.240234  12893.750000  12955.889648  12970.519531  115228700.0\n",
       "1  12969.400391  12933.559570  12950.179688  12968.049805   78532500.0\n",
       "2  12993.530273  12941.150391  12979.339844  12955.940430   73029000.0\n",
       "3  12996.639648  12943.549805  12975.860352  12976.400391   60873300.0\n",
       "4  12980.450195  12909.280273  12959.719727  12949.250000   65253500.0"
      ]
     },
     "execution_count": 57,
     "metadata": {},
     "output_type": "execute_result"
    }
   ],
   "source": [
    "df = df.drop(['Date','Adj Close'], axis = 1)\n",
    "df.head()"
   ]
  },
  {
   "cell_type": "code",
   "execution_count": 58,
   "metadata": {},
   "outputs": [
    {
     "data": {
      "text/plain": [
       "array([[0.94405683, 0.94439024, 0.94288223, 0.9481943 , 0.20996757],\n",
       "       [0.94336026, 0.94843069, 0.94230201, 0.94794261, 0.13342994],\n",
       "       [0.94581767, 0.94920111, 0.94526516, 0.94670853, 0.12195124],\n",
       "       ...,\n",
       "       [0.9802735 , 0.98415569, 0.97833423, 0.98187202, 0.08688295],\n",
       "       [0.98532278, 0.98679147, 0.98174354, 0.98555407, 0.06090168],\n",
       "       [0.97872142, 0.97995587, 0.97799484, 0.97657562, 0.03518238]])"
      ]
     },
     "execution_count": 58,
     "metadata": {},
     "output_type": "execute_result"
    }
   ],
   "source": [
    "# scaling values \n",
    "inputs = scaler.transform(df)\n",
    "inputs"
   ]
  },
  {
   "cell_type": "code",
   "execution_count": 59,
   "metadata": {},
   "outputs": [],
   "source": [
    "X_test = []\n",
    "y_test = []\n",
    "\n",
    "for i in range(60, inputs.shape[0]):\n",
    "    X_test.append(inputs[i-60:i])\n",
    "    y_test.append(inputs[i,0])"
   ]
  },
  {
   "cell_type": "code",
   "execution_count": 60,
   "metadata": {},
   "outputs": [
    {
     "data": {
      "text/plain": [
       "(502, 60, 5)"
      ]
     },
     "execution_count": 60,
     "metadata": {},
     "output_type": "execute_result"
    }
   ],
   "source": [
    "X_test = np.asarray(X_test)\n",
    "y_test = np.asarray(y_test)\n",
    "X_test.shape"
   ]
  },
  {
   "cell_type": "markdown",
   "metadata": {},
   "source": [
    "## Prediction "
   ]
  },
  {
   "cell_type": "code",
   "execution_count": 61,
   "metadata": {},
   "outputs": [],
   "source": [
    "y_pred = regressor.predict(X_test)"
   ]
  },
  {
   "cell_type": "code",
   "execution_count": 62,
   "metadata": {},
   "outputs": [
    {
     "data": {
      "text/plain": [
       "array([1.01840881e-04, 1.01494298e-04, 1.01616615e-04, 1.01911343e-04,\n",
       "       2.08570974e-09])"
      ]
     },
     "execution_count": 62,
     "metadata": {},
     "output_type": "execute_result"
    }
   ],
   "source": [
    "scaler.scale_"
   ]
  },
  {
   "cell_type": "code",
   "execution_count": 63,
   "metadata": {},
   "outputs": [
    {
     "data": {
      "text/plain": [
       "369.46998569929474"
      ]
     },
     "execution_count": 63,
     "metadata": {},
     "output_type": "execute_result"
    }
   ],
   "source": [
    "scale = 1/2.70657980e-03\n",
    "scale"
   ]
  },
  {
   "cell_type": "code",
   "execution_count": 64,
   "metadata": {},
   "outputs": [],
   "source": [
    "y_pred = y_pred * scale\n",
    "y_test = y_test*scale"
   ]
  },
  {
   "cell_type": "markdown",
   "metadata": {},
   "source": [
    "### Vizualisation "
   ]
  },
  {
   "cell_type": "code",
   "execution_count": 65,
   "metadata": {},
   "outputs": [
    {
     "data": {
      "image/png": "[encoded data removed]",
      "text/plain": [
       "<Figure size 1008x360 with 1 Axes>"
      ]
     },
     "metadata": {
      "needs_background": "light"
     },
     "output_type": "display_data"
    },
    {
     "data": {
      "text/plain": [
       "<Figure size 432x288 with 0 Axes>"
      ]
     },
     "metadata": {},
     "output_type": "display_data"
    }
   ],
   "source": [
    "plt.figure(figsize=(14,5))\n",
    "plt.plot(y_test,color = 'red', label = 'Real Index Price')\n",
    "plt.plot(y_pred, color = 'blue', label = 'Predicted Index Price')\n",
    "plt.title('Index price prediction')\n",
    "plt.xlabel('Time')\n",
    "plt.ylabel('Index price')\n",
    "plt.legend()\n",
    "plt.show()\n",
    "plt.savefig('books_read.png')"
   ]
  },
  {
   "cell_type": "code",
   "execution_count": null,
   "metadata": {},
   "outputs": [],
   "source": []
  }
 ],
 "metadata": {
  "kernelspec": {
   "display_name": "Python 3",
   "language": "python",
   "name": "python3"
  },
  "language_info": {
   "codemirror_mode": {
    "name": "ipython",
    "version": 3
   },
   "file_extension": ".py",
   "mimetype": "text/x-python",
   "name": "python",
   "nbconvert_exporter": "python",
   "pygments_lexer": "ipython3",
   "version": "3.7.6"
  }
 },
 "nbformat": 4,
 "nbformat_minor": 4
}
